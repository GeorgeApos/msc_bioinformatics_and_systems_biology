{
 "cells": [
  {
   "cell_type": "markdown",
   "metadata": {},
   "source": [
    "## SSB30806: Modelling in Systems Biology\n",
    "\n",
    "### Python tutorial pt.1: Introduction to Jupyter notebooks\n",
    "Jupyter notebooks allows for easy combining of text and code. To add a box for code or text, click \"+\" in the menu above. Then, select the new box and use the dropdown menu on the right side to toggle the box between \"Code\" (for scripts) and \"Markdown\" (for text). Finally, write your code or text and press \"Run\" or ctrl+Enter to run your code or make the text appear in a nicer font."
   ]
  },
  {
   "cell_type": "code",
   "execution_count": null,
   "metadata": {},
   "outputs": [],
   "source": [
    "# Change this block to Markdown mode and try writing some text"
   ]
  },
  {
   "cell_type": "markdown",
   "metadata": {},
   "source": [
    "### Basic arithmetic\n",
    "Python can perform all kinds of basic arithmetic operations ( + , - , * , / ). Note that for powers you need to use ** . Do NOT use ^ for powers. This will do something completely different.\n",
    "\n",
    "To make the output visible, use the print function by typing **print()** with the output to be printed in the brackets. Execute the examples below and try some arithmetic yourself."
   ]
  },
  {
   "cell_type": "code",
   "execution_count": null,
   "metadata": {},
   "outputs": [],
   "source": [
    "print(4+5)\n",
    "print(8-3)\n",
    "print(5*6)\n",
    "print(1/3)\n",
    "print(3**2)"
   ]
  },
  {
   "cell_type": "markdown",
   "metadata": {},
   "source": [
    "### Comments\n",
    "Sometimes you want to add some text to your code to remind yourself and others about what it does and how it works. Therefore, python will ignore everything on a line after the first **#**."
   ]
  },
  {
   "cell_type": "code",
   "execution_count": null,
   "metadata": {},
   "outputs": [],
   "source": [
    "# This is a comment and will be ignored\n",
    "print(3*3) # This prints the outcome of 3*3"
   ]
  },
  {
   "cell_type": "markdown",
   "metadata": {},
   "source": [
    "### Variables\n",
    "Values can be stored in variables by assigning a value using the **=** operator. The variable containing this value can then be used in further operations. Variable names are case sensitive and may contain letters, numbers, and underscores (no spaces!) but may not start with a number. Run the example below and try making some variables of your own."
   ]
  },
  {
   "cell_type": "code",
   "execution_count": null,
   "metadata": {},
   "outputs": [],
   "source": [
    "a1 = 3\n",
    "my_Variable = 7\n",
    "total = a1 + my_Variable\n",
    "Total = a1 * my_Variable\n",
    "\n",
    "print(total)\n",
    "print(Total)"
   ]
  },
  {
   "cell_type": "markdown",
   "metadata": {},
   "source": [
    "### Text\n",
    "If you want something to be considered text, rather than numbers or variables, put it in quotation marks (**' '** or **\" \"**). These text values (called \"character strings\" or \"strings\") can also be stored in variables."
   ]
  },
  {
   "cell_type": "code",
   "execution_count": null,
   "metadata": {},
   "outputs": [],
   "source": [
    "text = 'Hello world'\n",
    "\n",
    "print(text)\n",
    "print(\"text\")"
   ]
  },
  {
   "cell_type": "markdown",
   "metadata": {},
   "source": [
    "### Lists and tuples\n",
    "For storing multiple values in a structured way, you can use lists or tuples. You can make a list by putting the elements in square brackets (**[ ]**) separated by comma's. Tuples work the same way but use parentheses instead of square brackets. Elements may consist of anything you can put in a variable (numbers, strings, even other lists and tuples)."
   ]
  },
  {
   "cell_type": "code",
   "execution_count": null,
   "metadata": {},
   "outputs": [],
   "source": [
    "a = 2\n",
    "b = 8\n",
    "my_List = [1,1,a,3,5,b]\n",
    "my_Tuple = (a,4,6,b,10)\n",
    "\n",
    "print(my_List)\n",
    "print(my_Tuple)"
   ]
  },
  {
   "cell_type": "markdown",
   "metadata": {},
   "source": [
    "To acces the element at a specific position, type the name of the variable containing the list followed by the index number in square brackets. Note that index numbers start counting at zero!"
   ]
  },
  {
   "cell_type": "code",
   "execution_count": null,
   "metadata": {},
   "outputs": [],
   "source": [
    "l = [3,6,9,12]\n",
    "a = l[1]\n",
    "\n",
    "print(a)\n",
    "print(l[0])"
   ]
  },
  {
   "cell_type": "markdown",
   "metadata": {},
   "source": [
    "You can also index elements starting from the rear. The last element at index $[\\text{length}-1]$ can also be accessed using $[-1]$, the second to last at $[-2]$ etc."
   ]
  },
  {
   "cell_type": "code",
   "execution_count": null,
   "metadata": {},
   "outputs": [],
   "source": [
    "l = [3,6,9,12]\n",
    "last = l[-1]\n",
    "\n",
    "print(last)\n",
    "print(l[-2])"
   ]
  },
  {
   "cell_type": "markdown",
   "metadata": {},
   "source": [
    "Lists and tuples may also be empty. In this case, there are no elements to index. If you want to make a tuple with one element, you need to add an extra comma after the element to distinguish it from a number in parentheses."
   ]
  },
  {
   "cell_type": "code",
   "execution_count": null,
   "metadata": {},
   "outputs": [],
   "source": [
    "empty_list = []\n",
    "empty_tuple = ()\n",
    "one_element = (6,)\n",
    "not_a_tuple = (4)\n",
    "\n",
    "print(empty_list)\n",
    "print(empty_tuple)\n",
    "print(one_element)\n",
    "print(not_a_tuple)"
   ]
  },
  {
   "cell_type": "markdown",
   "metadata": {},
   "source": [
    "The difference between lists and tuples is that the elements in the list can be altered after the list has been made, while those in a tuple can't. Elements in a list may be altered as follows:"
   ]
  },
  {
   "cell_type": "code",
   "execution_count": null,
   "metadata": {},
   "outputs": [],
   "source": [
    "l = [1,2,3,4,5]\n",
    "l[1] = 9\n",
    "l[3] = 8\n",
    "\n",
    "print(l)"
   ]
  },
  {
   "cell_type": "markdown",
   "metadata": {},
   "source": [
    "### Functions\n",
    "Functions are bits of code that take one or more objects (called arguments) and perform some operation on them. We have already seen the print function that prints an object to the screen. Python also contains a small number of built-in functions, like the **abs** function to calculate the absolute value and the **len** function that returns the length of a list or tuple. To execute (\"call\") a function, type its name followed by the argument(s) in parentheses. If there are multiple arguments these should be separated by comma's."
   ]
  },
  {
   "cell_type": "code",
   "execution_count": null,
   "metadata": {},
   "outputs": [],
   "source": [
    "n = abs(-3)\n",
    "l = [2,4,6,8]\n",
    "length = len(l)\n",
    "\n",
    "print(n)\n",
    "print(length)"
   ]
  },
  {
   "cell_type": "markdown",
   "metadata": {},
   "source": [
    "### Making your own function\n",
    "You can also define your own functions. This is done using the keyword **def** followed by a space and the name you want to give your function. Then follows a pair of parentheses containing some variables as placeholders for the arguments that your function should take, separated by comma's (these placeholders are called \"parameters\"). Add a colon and hit enter.\n",
    "\n",
    "You will notice that Jupyter automatically added an indentation to your new line. This indentation is part of the code. You can now write any number of lines of code as part of this function until the indented block ends, which will be where your function ends.\n",
    "\n",
    "To make the function return a value when it's called, use the **return** keyword followed by a space and the variable you want the function to return. If you hit enter now, you will notice the automatic indenting has stopped. This is because a function always ends when it reaches a return statement. Your finished function can now be called in the same way as any built-in function.\n",
    "\n",
    "Run the following example function that subtracts to values:"
   ]
  },
  {
   "cell_type": "code",
   "execution_count": null,
   "metadata": {},
   "outputs": [],
   "source": [
    "# Function that subtracts the second argument from the first argument\n",
    "def subtract(a,b):\n",
    "    # anything here is part of the function until the indented block ends\n",
    "    result = a - b\n",
    "    return result\n",
    "\n",
    "\n",
    "c = 2\n",
    "d = 5\n",
    "# Note that the position of the arguments matters\n",
    "print(subtract(c,d))\n",
    "print(subtract(d,c))"
   ]
  },
  {
   "cell_type": "markdown",
   "metadata": {},
   "source": [
    "### Exercise 1\n",
    "Now try to make a function caled **add**, which adds two values:"
   ]
  },
  {
   "cell_type": "code",
   "execution_count": null,
   "metadata": {},
   "outputs": [],
   "source": []
  },
  {
   "cell_type": "markdown",
   "metadata": {},
   "source": [
    "### Optional arguments\n",
    "Sometimes, you might want to give some of your function arguments default values that are used if no input is provided. For example, if we want to make a multiply function that multiplies up to five values, we can ask for at least two values and give the rest a default of 1, so that they don't change the outcome when they are not specified. We can set default values using the **=** sign in the function definition:"
   ]
  },
  {
   "cell_type": "code",
   "execution_count": null,
   "metadata": {},
   "outputs": [],
   "source": [
    "def multiply(a, b, c = 1, d = 1, e = 1):\n",
    "    return a*b*c*d*e\n",
    "\n",
    "print(multiply(2,3))\n",
    "print(multiply(2,3,2))\n",
    "print(multiply(2,3,2,3))\n",
    "print(multiply(2,3,2,3,4))\n"
   ]
  },
  {
   "cell_type": "markdown",
   "metadata": {},
   "source": [
    "Note that any required arguments should always come before the optional ones, otherwise python doesn't know if you meant to skip an optional argument. While required arguments need to be provided in the right order, optional arguments may provided out of order using their name and the **=** sign:"
   ]
  },
  {
   "cell_type": "code",
   "execution_count": null,
   "metadata": {},
   "outputs": [],
   "source": [
    "def modify(number, add = 0, subtract = 0, multiply = 1, divide = 1):\n",
    "    return (number + add - subtract) * multiply / divide\n",
    "\n",
    "n = 5\n",
    "print(modify(n)) # 5\n",
    "print(modify(n, 4)) # 5 + 4\n",
    "print(modify(n, subtract = 4)) # 5 - 4\n",
    "print(modify(n, divide = 2, add = 4)) # (5+4)/2\n",
    "print(modify(n, divide = 2, multiply = 4)) # 5*4/2"
   ]
  },
  {
   "cell_type": "markdown",
   "metadata": {},
   "source": [
    "Note that also in the function calls, positional arguments need to come before keyword arguments."
   ]
  },
  {
   "cell_type": "markdown",
   "metadata": {},
   "source": [
    "### Exercise 2\n",
    "The quadratic equation $ax^2 + bx + c = 0$ can be solved using the abc-formula. Write a function that takes a, b, and c as arguments and returns the two solutions as a list or a tuple. Make c an optional argument with a default value of 0. To take a square root, you can use that $\\sqrt{x} = x^{0.5}$. Test your function with some values for which you know the outcome. For now, ignore the cases where there are less than two solutions."
   ]
  },
  {
   "cell_type": "code",
   "execution_count": null,
   "metadata": {},
   "outputs": [],
   "source": []
  },
  {
   "cell_type": "markdown",
   "metadata": {},
   "source": [
    "### Modules\n",
    "Of course there is no need to reinvent the wheel and write every function yourself. Python has an extensive library of modules with functions written by other people that you can use. These modules first need to be imported. You can import the entire module using the **import** statement:"
   ]
  },
  {
   "cell_type": "code",
   "execution_count": null,
   "metadata": {},
   "outputs": [],
   "source": [
    "import numpy"
   ]
  },
  {
   "cell_type": "markdown",
   "metadata": {},
   "source": [
    "This imports the module numpy and allows you to use its functions and objects using numpy.NameOfObject. For example, numpy contains the number pi and all of the trigonometric functions:"
   ]
  },
  {
   "cell_type": "code",
   "execution_count": null,
   "metadata": {},
   "outputs": [],
   "source": [
    "pi = numpy.pi\n",
    "sinpi = numpy.sin(pi)\n",
    "cospi = numpy.cos(pi)\n",
    "\n",
    "print(pi)\n",
    "print(sinpi)\n",
    "print(cospi)"
   ]
  },
  {
   "cell_type": "markdown",
   "metadata": {},
   "source": [
    "Since writing numpy every time might get a bit annoying, you can also abbreviate it in your import statement using the keyword **as**:"
   ]
  },
  {
   "cell_type": "code",
   "execution_count": null,
   "metadata": {},
   "outputs": [],
   "source": [
    "import numpy as np\n",
    "\n",
    "print(np.pi)"
   ]
  },
  {
   "cell_type": "markdown",
   "metadata": {},
   "source": [
    "You can also import a specific function from the numpy module, which you can then use without having to write anything in front of it (note that this does not import the rest of the module):"
   ]
  },
  {
   "cell_type": "code",
   "execution_count": null,
   "metadata": {},
   "outputs": [],
   "source": [
    "# import numpy's square root function\n",
    "from numpy import sqrt\n",
    "\n",
    "print(sqrt(16))"
   ]
  },
  {
   "cell_type": "markdown",
   "metadata": {},
   "source": [
    "### Numpy arrays\n",
    "Numpy has its own list-like array structure, which can be used to represent vector and matrices. You can create these manually using the **array** function and a list or list of lists:"
   ]
  },
  {
   "cell_type": "code",
   "execution_count": null,
   "metadata": {},
   "outputs": [],
   "source": [
    "import numpy as np\n",
    "\n",
    "# a numpy array\n",
    "a = np.array([1,2,3,4,5])\n",
    "\n",
    "# a matrix\n",
    "m = np.array([\n",
    "    [1,2,3],\n",
    "    [4,5,6],\n",
    "    [7,8,9]\n",
    "])\n",
    "\n",
    "print(a)\n",
    "print(m)"
   ]
  },
  {
   "cell_type": "markdown",
   "metadata": {},
   "source": [
    "Elements of numpy arrays can be indexed and altered in the same way as for normal lists. Elements from matrices can be accessed by indexing with: **[row, column]**. If you want the entire row or column, use a colon instead."
   ]
  },
  {
   "cell_type": "code",
   "execution_count": null,
   "metadata": {},
   "outputs": [],
   "source": [
    "print(m[0,2]) # print the element at the second first row and third colomn\n",
    "print(m[:,1]) # print the entire second column"
   ]
  },
  {
   "cell_type": "markdown",
   "metadata": {},
   "source": [
    "Any arithmetic operations on arrays of the same length will be applied to all elements of the array:"
   ]
  },
  {
   "cell_type": "code",
   "execution_count": null,
   "metadata": {},
   "outputs": [],
   "source": [
    "print(3*a+1)\n",
    "print(a+a)\n",
    "print(a-a)\n",
    "print(a*a)\n",
    "print(a/a)\n",
    "print(a**a)\n",
    "print(np.sin(a))"
   ]
  },
  {
   "cell_type": "markdown",
   "metadata": {},
   "source": [
    "There are also functions that allow you to quickly make arrays:"
   ]
  },
  {
   "cell_type": "code",
   "execution_count": null,
   "metadata": {},
   "outputs": [],
   "source": [
    "# make arrays of four zeros\n",
    "a1 = np.zeros(4)\n",
    "\n",
    "# make an array of 5 ones\n",
    "a2 = np.ones(5)\n",
    "\n",
    "# make an array of 101 elements starting at 0 and ending at 10\n",
    "a3 = np.linspace(0,10,101) \n",
    "\n",
    "# make a 5x5 identity matrix\n",
    "m = np.identity(5)\n",
    "\n",
    "\n",
    "print(a1)\n",
    "print(a2)\n",
    "print(a3)\n",
    "print(m)\n"
   ]
  },
  {
   "cell_type": "markdown",
   "metadata": {},
   "source": [
    "The numpy module contains a large number of other useful functions and there are also many other useful modules out there. If you’re ever trying to write some code of your own, it might be worth googling to see if some of the things you need are already part of an existing module. For an overview of mathematical functions available in numpy, see for example: https://www.geeksforgeeks.org/numpy-mathematical-function/"
   ]
  },
  {
   "cell_type": "markdown",
   "metadata": {},
   "source": [
    "### Writing arrays to csv files\n",
    "The modules **numpy.savetxt** and **numpy.genfromtxt** allows you to write data to and read data from csv files. These file types (csv) are comma-separated variables. These files can be opened in Excel sheets and easily read by the numpy package.\n",
    "\n",
    "We will practice this with array a3 from above, and then you can try this with matrix m.\n",
    "\n",
    "To write data to a csv file use:"
   ]
  },
  {
   "cell_type": "code",
   "execution_count": null,
   "metadata": {},
   "outputs": [],
   "source": [
    "# note that './' saves the file in your current working directory! You can replace this with a full filename (drive, folder, etc) if you wish\n",
    "np.savetxt('./array_a3.csv',a3,delimiter=',')"
   ]
  },
  {
   "cell_type": "markdown",
   "metadata": {},
   "source": [
    "To read the data, we can use:"
   ]
  },
  {
   "cell_type": "code",
   "execution_count": null,
   "metadata": {},
   "outputs": [],
   "source": [
    "a3_saved = np.genfromtxt('./array_a3.csv',delimiter=',')\n",
    "print(a3_saved)"
   ]
  },
  {
   "cell_type": "markdown",
   "metadata": {},
   "source": [
    "Hopefully the saved a3 matches what you had before!"
   ]
  },
  {
   "cell_type": "markdown",
   "metadata": {},
   "source": [
    "### Exercise 3\n",
    "Now try this for matrix m and check the matrix saved to file is the same as what you generated above."
   ]
  },
  {
   "cell_type": "markdown",
   "metadata": {},
   "source": [
    "### Making plots\n",
    "The module **matplotlib.pyplot** can be used for plotting results. Here, it is particularly convenient to abbreviate this module to **plt** in the import statement:"
   ]
  },
  {
   "cell_type": "code",
   "execution_count": null,
   "metadata": {},
   "outputs": [],
   "source": [
    "import matplotlib.pyplot as plt"
   ]
  },
  {
   "cell_type": "markdown",
   "metadata": {},
   "source": [
    "Run the following line to make plots appear in the Jupyter notebook:"
   ]
  },
  {
   "cell_type": "code",
   "execution_count": null,
   "metadata": {},
   "outputs": [],
   "source": [
    "%matplotlib inline"
   ]
  },
  {
   "cell_type": "markdown",
   "metadata": {},
   "source": [
    "First, we need some data to plot. This is where numpy's **linspace** function is quite convenient:"
   ]
  },
  {
   "cell_type": "code",
   "execution_count": null,
   "metadata": {},
   "outputs": [],
   "source": [
    "import numpy as np\n",
    "x = np.linspace(0,10,500) # 500 elements from 0 to 10\n",
    "y = np.sin(x) # the sine of every element in x"
   ]
  },
  {
   "cell_type": "markdown",
   "metadata": {},
   "source": [
    "Now, we can use the **plot** function to plot x against y:"
   ]
  },
  {
   "cell_type": "code",
   "execution_count": null,
   "metadata": {},
   "outputs": [],
   "source": [
    "plt.plot(x,y)"
   ]
  },
  {
   "cell_type": "markdown",
   "metadata": {},
   "source": [
    "You can also plot multiple lines by using the plot function multiple times in a row. The **legend** function adds a legend to your plot. This legend will display the labels that were added to the optional argument **label** of the plot function, so make sure to provide a label in each plot statement if you want to be able to distinguish your lines. To label the axes, use the functions **xlabel** and **ylabel**."
   ]
  },
  {
   "cell_type": "code",
   "execution_count": null,
   "metadata": {},
   "outputs": [],
   "source": [
    "plt.plot(x, y, label = 'sin(x)')\n",
    "plt.plot(x, np.cos(x), label = 'cos(x)')\n",
    "plt.legend()\n",
    "plt.xlabel('x')\n",
    "plt.ylabel('y')"
   ]
  },
  {
   "cell_type": "markdown",
   "metadata": {},
   "source": [
    "Note that using the plot function twice in the same block plots both lines in one figure. Therefore, if we want two separate figures from a single code block, we have to state this explicitly, by using the **show** function after we finished plotting the lines for the first figure:"
   ]
  },
  {
   "cell_type": "code",
   "execution_count": null,
   "metadata": {},
   "outputs": [],
   "source": [
    "plt.plot(x, x**2)\n",
    "plt.show()\n",
    "\n",
    "plt.plot(x, np.sqrt(x))\n",
    "plt.show()"
   ]
  },
  {
   "cell_type": "markdown",
   "metadata": {},
   "source": [
    "There are many other functions that allow you to make (cosmetic) changes to your plots. For example, the **xscale** and **yscale** functions can be used to add logarithmic scales by giving them the argument **'log'** and a title can be added to the plot with the function **title**. If you ever want to make some other change to your plots, it might be worth googling to see if there is a function in the matplotlib library that will allow you to do this."
   ]
  },
  {
   "cell_type": "code",
   "execution_count": null,
   "metadata": {},
   "outputs": [],
   "source": [
    "plt.plot(x, 10**x)\n",
    "plt.yscale('log')\n",
    "plt.title('10^x on logarithmic scale')\n",
    "plt.show()"
   ]
  },
  {
   "cell_type": "markdown",
   "metadata": {},
   "source": [
    "### Restarting the kernel\n",
    "Jupyter will remember all functions, variables, and imported modules from previously executed code blocks even after closing and opening the file. To clear all these memories, you can restart the kernel by pressing the curved arrow button in the menu or by pressing \"Kernel\" > \"Restart\". If you also want to clear all the output that your code generated, press \"Kernel\" > \"Restart & Clear Output\". To clear the output of one or all cells without resetting the memory, press \"Cell\" > \"Current Outputs\" > \"Clear\" or \"Cell\" > \"All Output\" > \"Clear\". Restart the kernel now so you can practice adding all the proper import statements in the final exercise."
   ]
  },
  {
   "cell_type": "markdown",
   "metadata": {},
   "source": [
    "### Exercise 4\n",
    "Achilles is having a footrace against a turtle. Because the turtle is much slower, he agrees to give the turtle a headstart. Achilles can run 10 m/s and the turtle only 1 m/s. Write a function **plot_distance** that plots the distance from Achilles' starting point for both Achilles and the turtle against time. The function should take a numpy array with the time points at which the distance will be plotted and a value for the length of the headstart that the turtle gets. The running speeds can be added as two optional arguments. Make sure to label which line belongs to the turtle and which one to Achilles. Also label your axes. Use the **show** function at the end of your function to make sure that each run of your function makes a separate figure. Then, use your function for headstarts of 20, 40, and 60 meters to show where and when Achilles will pass the turtle. If there is time left, you can also play with the running speeds."
   ]
  },
  {
   "cell_type": "code",
   "execution_count": null,
   "metadata": {},
   "outputs": [],
   "source": [
    "# Enter code here"
   ]
  },
  {
   "cell_type": "markdown",
   "metadata": {},
   "source": [
    "Copy and paste the exercise into, e.g., ChatGPT. Copy any code you get into this notebook and run it. Critically assess any differences between your code and that provided by ChatGPT. Do you understand how ChatGPT reached it's solution?"
   ]
  },
  {
   "cell_type": "code",
   "execution_count": null,
   "metadata": {},
   "outputs": [],
   "source": [
    "# Enter ChatGPT code here"
   ]
  }
 ],
 "metadata": {
  "kernelspec": {
   "display_name": "Python 3 (ipykernel)",
   "language": "python",
   "name": "python3"
  },
  "language_info": {
   "codemirror_mode": {
    "name": "ipython",
    "version": 3
   },
   "file_extension": ".py",
   "mimetype": "text/x-python",
   "name": "python",
   "nbconvert_exporter": "python",
   "pygments_lexer": "ipython3",
   "version": "3.11.4"
  }
 },
 "nbformat": 4,
 "nbformat_minor": 4
}
