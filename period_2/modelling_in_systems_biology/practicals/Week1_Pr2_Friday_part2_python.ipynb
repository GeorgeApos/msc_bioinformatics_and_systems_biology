{
 "cells": [
  {
   "cell_type": "markdown",
   "id": "09026697",
   "metadata": {},
   "source": [
    "# SSB30806: Modelling in Systems Biology\n",
    "## Python Tutorial pt.2: Simulating ODEs with python\n",
    "This notebook will guide you through the steps needed to simulate systems of ordinary differential equations in Python.\n",
    "\n"
   ]
  },
  {
   "cell_type": "markdown",
   "id": "4709d4db",
   "metadata": {},
   "source": [
    "### Step 1: Importing modules\n",
    "First we import the modules we will need later on. We already introduced numpy and matplotlib in the python tutorial. For the actual numerical integration we will use the function **odeint** from the **scipy** module. Since this is the only function in this module that we will use, we will import it directly."
   ]
  },
  {
   "cell_type": "code",
   "execution_count": null,
   "id": "115dd6db",
   "metadata": {},
   "outputs": [],
   "source": [
    "#import necessary packages\n",
    "import numpy as np #math and arrays\n",
    "from scipy.integrate import odeint #differential equations\n",
    "import matplotlib.pyplot as plt #plotting"
   ]
  },
  {
   "cell_type": "code",
   "execution_count": null,
   "id": "291125ad",
   "metadata": {},
   "outputs": [],
   "source": [
    "#run a \"magic\" command to make sure figures are rendered properly in the notebook\n",
    "%matplotlib inline"
   ]
  },
  {
   "cell_type": "markdown",
   "id": "94be4732",
   "metadata": {},
   "source": [
    "### Step 2: Define a system of differential equations\n",
    "Next, we need to define our system of differential equations. For this example, we will use a simple system with two equations:\n",
    "\\begin{align}\n",
    "\\frac{dx_1}{dt} &= a \\cdot x_1 - b\\cdot x_1\\cdot x_2\\\\\n",
    "\\frac{dx_2}{dt} &= c \\cdot x_1\\cdot x_2 - d \\cdot x_2\n",
    "\\end{align}\n",
    "Here, $x_1$ and $x_2$ are the two state variables and $a$, $b$, $c$, and $d$ are parameters. This system can be thought of as a representation of simple predator prey dynamics, where $x_1$ is the density of the prey and $x_2$ is the density of the predator.\n",
    "\n",
    "The numerical integration function we will use (**odeint**) requires us to define a function that calculates the derivatives of all state variables as specified by our differential equation. Note that we will not be calling this derivative function ourselves; it will be passed on to odeint which will call it internally. The numerical integration performed by odeint is essentially similar to the forward euler scheme explained in the lectures. It will start at an initial condition, calculate the derivatives there and use those to take a small step forward in time. This process is repeated until the specified end time is reached. The main difference with forward euler is that the size of the time steps is chosen automatically the steps are a bit more complicated and more accurate, but the process still relies on repeated evaluations of the derivatives. \n",
    "\n",
    "Therefore, the function for the derivatives of our ODE must therefore be defined in the way that the odeint function expects. \n",
    "It will pass a list of current values for all states to the first argument, the current time point to the second, and any parameters you gave it will be passed to the remaining arguments. This means that even though we will almost never use the value of the current time point, we still need to provide a parameter for it in our derivative function, because that is what odeint expects. The expected output is a list of derivatives of all states in the same order."
   ]
  },
  {
   "cell_type": "code",
   "execution_count": null,
   "id": "63eef606",
   "metadata": {},
   "outputs": [],
   "source": [
    "def deriv(x, t, a, b, c, d):\n",
    "    \n",
    "    # Unpack the state variable information\n",
    "    # The first argument contains the values of the state variables in order\n",
    "    x1 = x[0] \n",
    "    x2 = x[1]\n",
    "\n",
    "    # Calculate the derivatives of the two states\n",
    "    dx1dt = a*x1 - b*x1*x2\n",
    "    dx2dt = c*x1*x2 - d*x2\n",
    "    \n",
    "    # Make a list of all derivatives in the correct order\n",
    "    dxdt = [dx1dt, dx2dt]\n",
    "\n",
    "    # Return the derivatives\n",
    "    return dxdt"
   ]
  },
  {
   "cell_type": "markdown",
   "id": "d67ea21c",
   "metadata": {},
   "source": [
    "### Step 3: Set the parameters for the simulation experiment\n",
    "Now, we specify the precise conditions for which we want our ODEs simulated. First, we make a numpy array with all the time steps for which we want our states calculated. (Note that these are not the integration time steps used by odeint. If the integration requires smaller time steps to be accurate, odeint will use more steps internally but provide output only at the steps you specified.)"
   ]
  },
  {
   "cell_type": "code",
   "execution_count": null,
   "id": "8ff9ad07",
   "metadata": {},
   "outputs": [],
   "source": [
    "# Define the simulation end time and number of time points for which you want output\n",
    "t_end = 10\n",
    "Nsteps = 200\n",
    "\n",
    "# Make a numpy array with the time steps for which you want output\n",
    "timepoints = np.linspace(0, t_end, Nsteps) "
   ]
  },
  {
   "cell_type": "markdown",
   "id": "85feeddd",
   "metadata": {},
   "source": [
    "Then, we can specify the values of the parameters we want to use. For now, let's set them all to 1. Parameters need to be provided in a tuple *in the same order* as they appear in the derivatives function we specified above. (Using the same variable names as in the derivatives function is recommended to prevent confusion, but python has no way of linking the variable names you use here to the ones from above, so it will look only at the order in which they are provided.)"
   ]
  },
  {
   "cell_type": "code",
   "execution_count": null,
   "id": "224a2f1a",
   "metadata": {},
   "outputs": [],
   "source": [
    "# Specify parameter values\n",
    "a = 1\n",
    "b = 1\n",
    "c = 1\n",
    "d = 1\n",
    "parameters = (a,b,c,d)"
   ]
  },
  {
   "cell_type": "markdown",
   "id": "52bd055a",
   "metadata": {},
   "source": [
    "The last thing we need to do before we can start the actual simulation is defining the initial conditions of the state variables. Again, these need to be provided in the same order that you used in the derivative function."
   ]
  },
  {
   "cell_type": "code",
   "execution_count": null,
   "id": "8deec902",
   "metadata": {},
   "outputs": [],
   "source": [
    "# Set initial values for all state variables\n",
    "x1_init = 2\n",
    "x2_init = 4\n",
    "\n",
    "x_init = [x1_init, x2_init] #combine into a list"
   ]
  },
  {
   "cell_type": "markdown",
   "id": "2bc4f22f",
   "metadata": {},
   "source": [
    "### Step 4: Run the simulation experiment\n",
    "Now we are ready to call the **odeint** function. This function takes three required arguments: the derivative function we defined at the beginning, the list of initial conditions, and the array of time points. If your derivative function needs any parameters, these should be passed in a tuple to an optional argument called **args**."
   ]
  },
  {
   "cell_type": "code",
   "execution_count": null,
   "id": "45ed7b3d",
   "metadata": {},
   "outputs": [],
   "source": [
    "# Calculate state variables at requested time points\n",
    "x_t = odeint(deriv, x_init, timepoints, args = parameters)"
   ]
  },
  {
   "cell_type": "markdown",
   "id": "2cf50a93",
   "metadata": {},
   "source": [
    "The odeint function returns a numpy matrix with a column for each state variable and a row for each time point in the timepoints array, containing the values of these state variables at these time points."
   ]
  },
  {
   "cell_type": "code",
   "execution_count": null,
   "id": "29a4d603",
   "metadata": {},
   "outputs": [],
   "source": [
    "# Separate results into arrays for each state variable\n",
    "x1_t = x_t[:,0]\n",
    "x2_t = x_t[:,1]"
   ]
  },
  {
   "cell_type": "markdown",
   "id": "f3a7d9c7",
   "metadata": {},
   "source": [
    "### Step 5: Plot the results \n",
    "Finally, we can plot the results of the numerical integration using matplotlib."
   ]
  },
  {
   "cell_type": "code",
   "execution_count": null,
   "id": "31184797",
   "metadata": {},
   "outputs": [],
   "source": [
    "# Plot the state variables against time\n",
    "plt.plot(timepoints, x1_t, label='x1')\n",
    "plt.plot(timepoints, x2_t, label='x2')\n",
    "plt.legend()\n",
    "plt.xlabel('time')\n",
    "plt.ylabel('states')\n",
    "plt.show()"
   ]
  },
  {
   "cell_type": "markdown",
   "id": "12822956",
   "metadata": {},
   "source": [
    "### Running multiple simulations\n",
    "If you want to run multiple simulations, it may be convenient to wrap the entire simulation code into a function that takes the parameters and initial conditions as input arguments. You can have your function return both the array of timepoints and the simulation results by separating them with a comma."
   ]
  },
  {
   "cell_type": "code",
   "execution_count": null,
   "id": "81d2f961",
   "metadata": {},
   "outputs": [],
   "source": [
    "def simulateODE(a, b, c, d, x1_init, x2_init, t_end = 10, Nsteps = 200):\n",
    "\n",
    "    # Make a numpy array with the time steps for which you want output\n",
    "    timepoints = np.linspace(0, t_end, Nsteps)\n",
    "\n",
    "    # Specify parameter values\n",
    "    parameters = (a,b,c,d)\n",
    "\n",
    "    # Set initial values for all state variables\n",
    "    x_init = [x1_init, x2_init] #combine into a list\n",
    "\n",
    "    # Calculate state variables at requested time points\n",
    "    x_t = odeint(deriv, x_init, timepoints, args = parameters)\n",
    "    \n",
    "    # Return time points and state variables at those time points\n",
    "    # This technically combines both variables into a tuple which can be unpacked after calling the function\n",
    "    return timepoints, x_t\n"
   ]
  },
  {
   "cell_type": "markdown",
   "id": "d42e4928",
   "metadata": {},
   "source": [
    "The same thing can be done for the plotting code."
   ]
  },
  {
   "cell_type": "code",
   "execution_count": null,
   "id": "8ede9f49",
   "metadata": {},
   "outputs": [],
   "source": [
    "def plotODEoutput(timepoints, x_t):\n",
    "    # Separate results into arrays for each state variable\n",
    "    x1_t = x_t[:,0]\n",
    "    x2_t = x_t[:,1]\n",
    "    \n",
    "    # Plot the state variables against time\n",
    "    plt.plot(timepoints, x1_t, label='x1')\n",
    "    plt.plot(timepoints, x2_t, label='x2')\n",
    "    plt.legend()\n",
    "    plt.xlabel('time')\n",
    "    plt.ylabel('states')\n",
    "    plt.show()\n",
    "    "
   ]
  },
  {
   "cell_type": "markdown",
   "id": "6f5324ad",
   "metadata": {},
   "source": [
    "You can then call these functions multiple times for different settings without having to rewrite all that code over and over again. To split the output from the simulation function back into two separate arrays, simply provide two variable names separated by a comma."
   ]
  },
  {
   "cell_type": "code",
   "execution_count": null,
   "id": "83f68ea8",
   "metadata": {},
   "outputs": [],
   "source": [
    "# Simulations for various parameter values and initial conditions\n",
    "timepoints, x_t = simulateODE(1,1,1,1,12,10, t_end = 60)\n",
    "plotODEoutput(timepoints, x_t)\n",
    "\n",
    "timepoints, x_t = simulateODE(1,1,0.1,1,2,4, t_end = 30)\n",
    "plotODEoutput(timepoints, x_t)\n",
    "\n",
    "timepoints, x_t = simulateODE(1,1,0.1,1,12,10, t_end = 50)\n",
    "plotODEoutput(timepoints, x_t)\n"
   ]
  }
 ],
 "metadata": {
  "kernelspec": {
   "display_name": "Python 3 (ipykernel)",
   "language": "python",
   "name": "python3"
  },
  "language_info": {
   "codemirror_mode": {
    "name": "ipython",
    "version": 3
   },
   "file_extension": ".py",
   "mimetype": "text/x-python",
   "name": "python",
   "nbconvert_exporter": "python",
   "pygments_lexer": "ipython3",
   "version": "3.11.4"
  }
 },
 "nbformat": 4,
 "nbformat_minor": 5
}
