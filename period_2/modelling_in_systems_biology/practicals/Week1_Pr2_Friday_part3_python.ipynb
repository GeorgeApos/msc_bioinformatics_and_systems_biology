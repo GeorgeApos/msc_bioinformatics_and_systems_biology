{
 "cells": [
  {
   "cell_type": "markdown",
   "metadata": {},
   "source": [
    "# SSB30806: Modelling in Systems Biology\n",
    "\n",
    "## Python tutorial pt.3: Extended functionality\n",
    "\n",
    "This notebook will build on parts 1 and 2 to introduce conditional statements and loops. These ideas can make your code more efficient for simulating multiple conditions later in the course."
   ]
  },
  {
   "cell_type": "markdown",
   "metadata": {},
   "source": [
    "### True and False\n",
    "Python has two special values, called **True** and **False**, which can be used for logical decision making by your code."
   ]
  },
  {
   "cell_type": "code",
   "execution_count": null,
   "metadata": {},
   "outputs": [],
   "source": [
    "a = True\n",
    "b = False\n",
    "\n",
    "print(a)\n",
    "print(b)"
   ]
  },
  {
   "cell_type": "markdown",
   "metadata": {},
   "source": [
    "### Comparison operators\n",
    "Numbers can be compared to each other using one of the following comparison operators:"
   ]
  },
  {
   "cell_type": "markdown",
   "metadata": {},
   "source": [
    "Operator | Test if:\n",
    ":-- | :-- \n",
    "a == b | a equal to b\n",
    "a != b | a unequal to b\n",
    "a > b | a greater than b\n",
    "a >= b | a greater than or equal to b\n",
    "a < b | a smaller than b\n",
    "a <= b | a smaller than or equal to b\n"
   ]
  },
  {
   "cell_type": "markdown",
   "metadata": {},
   "source": [
    "These operators always return either True or False, depending one whether the comparison being made is correct:"
   ]
  },
  {
   "cell_type": "code",
   "execution_count": null,
   "metadata": {},
   "outputs": [],
   "source": [
    "a = 7\n",
    "b = 5\n",
    "\n",
    "print(a > b)\n",
    "print(a < b)\n",
    "print(a == b)\n",
    "print(a != b)\n",
    "print(a >= b)\n",
    "print(a <= b)\n"
   ]
  },
  {
   "cell_type": "markdown",
   "metadata": {},
   "source": [
    "Note that you should not confuse the comparison operator **==** (which compares two values and returns True or False), with the assignment operator **=** (which assigns a value to a variable). They do two very different things and can therefore not be used interchangeably."
   ]
  },
  {
   "cell_type": "markdown",
   "metadata": {},
   "source": [
    "### Logical operators\n",
    "Multiple logical values can themselves also be compared using the logical operators **and**, **or**, and **not**. The **and** operator returns True if both arguments are True and False otherwise. The **or** operator returns True if either one or both the arguments are True and False only if both arguments are False. The **not** operator converts a value that is True to False and vice versa."
   ]
  },
  {
   "cell_type": "code",
   "execution_count": null,
   "metadata": {},
   "outputs": [],
   "source": [
    "t = True\n",
    "f = False\n",
    "\n",
    "print('True and False:\\t', t and f)\n",
    "print('True or False:\\t',  t or f )\n",
    "print('Not True:\\t',       not t  )\n",
    "print('Not False:\\t',      not f  )"
   ]
  },
  {
   "cell_type": "markdown",
   "metadata": {},
   "source": [
    "### Conditional statements\n",
    "These logical values and operators can be used to have your program make decisions and execute some code block only if a certain condition is met. To do this, we use conditional statements, starting with the **if** keyword. Following this keyword there should be an expression that evaluates to either True or False. Then, we add a colon and start a new indented code block, just like when defining a function. All the lines in the indented code block are then executed only if the expression after **if** was True."
   ]
  },
  {
   "cell_type": "code",
   "execution_count": null,
   "metadata": {},
   "outputs": [],
   "source": [
    "a = 5\n",
    "b = 9\n",
    "\n",
    "if a < b:\n",
    "    print(a, 'is smaller than', b)\n",
    "    \n",
    "if a > b:\n",
    "    print(a, 'is larger than', b)\n",
    "    \n",
    "if a == b:\n",
    "    print(a, 'is equal to', b)"
   ]
  },
  {
   "cell_type": "markdown",
   "metadata": {},
   "source": [
    "Sometimes, you might want to execute one piece of code if a condition is True and another if it is False. Of course, you could write two complementary **if** statements, but it is also possible to add the keyword **else** followed by a colon and a new indented code block, which is executed if the condition of the **if**-statement is not met."
   ]
  },
  {
   "cell_type": "code",
   "execution_count": null,
   "metadata": {},
   "outputs": [],
   "source": [
    "a = 6\n",
    "b = 2\n",
    "\n",
    "if a <= b:\n",
    "    print(a, 'is smaller than or equal to', b)\n",
    "else:\n",
    "    print(a, 'is larger than', b)"
   ]
  },
  {
   "cell_type": "markdown",
   "metadata": {},
   "source": [
    "It is also possible to add a new **if**/**else**-statement in the **else** code block, but repeating this process quickly increases the number of indentations and makes the code harder to read. Therefore, you can combine an **else** and subsequent **if** into and **elif** (short for \"else if\"), which maintains the indentation level and makes your code clearer. The final **else** statement is now executed only when the original **if** statement and all subsequent **elif** statements were False."
   ]
  },
  {
   "cell_type": "code",
   "execution_count": null,
   "metadata": {
    "scrolled": true
   },
   "outputs": [],
   "source": [
    "a = 3\n",
    "b = 3\n",
    "\n",
    "# This is a bit convoluted\n",
    "if a < b:\n",
    "    print(a, 'is smaller than', b)\n",
    "else:\n",
    "    if a > b:\n",
    "        print(a, 'is larger than', b)\n",
    "    else:\n",
    "        print(a, 'is equal to', b)\n",
    "\n",
    "\n",
    "# This does the same in a more readable way\n",
    "if a < b:\n",
    "    print(a, 'is smaller than', b)\n",
    "elif a > b:\n",
    "    print(a, 'is larger than', b)\n",
    "else:\n",
    "    print(a, 'is equal to', b)"
   ]
  },
  {
   "cell_type": "markdown",
   "metadata": {},
   "source": [
    "### Exercise 1\n"
   ]
  },
  {
   "cell_type": "markdown",
   "metadata": {},
   "source": [
    "In the first python tutorial, you were asked to write a function that calculates the roots of the quadratic equation (solving $ax^2 + bx + c = 0$). There we considered only cases with two solutions. Now, use conditional statements to adept your function so that it returns a list with zero, one, or two values, depending on the number of solutions."
   ]
  },
  {
   "cell_type": "code",
   "execution_count": null,
   "metadata": {},
   "outputs": [],
   "source": []
  },
  {
   "cell_type": "markdown",
   "metadata": {},
   "source": [
    "### Loops\n",
    "Sometimes, we want to do the same thing multiple times. To avoid writing practically the same line of code over and over, we can use a loop. The most commonly used type of loop is called a 'for-loop'. It executes a block of code multiple times for different values of a specified loop-variable. The different values that this loop-variable will take can be provided in any object that can contain multiple values, such as a list, or a tuple, or even a numpy array. A for-loop starts with the keyword **for**, followed by the name of the loop-variable you want to use (you can choose this yourself). Next, we get the keyword **in** followed by the list or other structure that we want to loop over. Finally, we get a colon and an indented block containing the code we want to execute for each value of the loop-variable. This code block is now executed as many times as there are entries in the list we are looping over. The first time the loop-variable will contain the value of the first element of the list, the second time it will contain the second element etc.\n"
   ]
  },
  {
   "cell_type": "code",
   "execution_count": null,
   "metadata": {},
   "outputs": [],
   "source": [
    "fruits = ['apple', 'pear', 'orange', 'banana', 'pineapple', 'strawberry']\n",
    "\n",
    "for fruit in fruits:\n",
    "    # Here, the value of the variable \"fruit\" changes every iteration (from apple to pear to orange, etc.)\n",
    "    print('The current fruit is:', fruit)\n",
    "    \n",
    "print('The last fruit was:', fruit)\n"
   ]
  },
  {
   "cell_type": "markdown",
   "metadata": {},
   "source": [
    "We can also loop over a regular set of numbers generated automatically by the **range** function. In a for loop, this funtion acts as a list of numbers, starting at 0 and increasing by 1 with each element up to and excluding the number you pass it as argument. In previous versions of python the range function would literally return this list, though in python 3 that is no longer the case."
   ]
  },
  {
   "cell_type": "code",
   "execution_count": null,
   "metadata": {},
   "outputs": [],
   "source": [
    "for number in range(5): # range(5) acts as though it were the list: [0,1,2,3,4]\n",
    "    print(number)"
   ]
  },
  {
   "cell_type": "markdown",
   "metadata": {},
   "source": [
    "By combining the range function with the **len** function, which returns the number of elements in a list, we can loop over the indices of a list rather than the actual elements and therefore keep track of both the element and its position in the list. By convention, the letters **i** and **j** are often used for indices, sometimes doubled to **ii** and **jj** to make them easier to find, though in principle, you can use any variable name you like."
   ]
  },
  {
   "cell_type": "code",
   "execution_count": null,
   "metadata": {},
   "outputs": [],
   "source": [
    "fruits = ['apple', 'pear', 'orange', 'banana', 'pineapple', 'strawberry']\n",
    "\n",
    "for ii in range(len(fruits)): # len(fruits) = 6, range(6) = [0,1,2,3,4,5]\n",
    "    fruit = fruits[ii]\n",
    "    print('Fruit number', ii+1, 'is:', fruit)\n",
    "    \n",
    "print('The last fruit was', fruit, 'at index position', ii, 'and therefore the', ii+1, 'th item in the list.')"
   ]
  },
  {
   "cell_type": "markdown",
   "metadata": {},
   "source": [
    "### Exercise 2\n",
    "Take the function for plotting the distances of Achilles and the turtle that you made in the basic python tutorial, make a list of all the headstart distances for which you want a plot, and then use a for loop to automate your calls to the plotting function for each of these headstarts."
   ]
  },
  {
   "cell_type": "code",
   "execution_count": null,
   "metadata": {},
   "outputs": [],
   "source": []
  },
  {
   "cell_type": "markdown",
   "metadata": {},
   "source": [
    "### Exercise 3\n",
    "The **plotODEoutput** function we defined in the ODE simulation demo assumed it would get the output of a system of two ODEs. Use a for loop to rewrite this function so that it will plot all the states in the output array in a single figure, regardless of how many states there are. To determine the number of states in an output array x_t, you can use the **len** function on the first row of this array (so Nstates = len(x_t[0,:]) ). \n",
    "\n",
    "For the labels in the legend, this will give some trouble, because you don't know how to label the output of an arbitrary ODE in advance. To solve this problem, you can add an optional argument labels that takes a list of names to use as labels (one for each state) and defaults to an empty list. You can then use a conditional statement to set the label to the element that corresponds with the current state if the labels list is long enough to contain this entry. If not, you can skip the label by feeding the label argument an empty character string (label = '')."
   ]
  },
  {
   "cell_type": "code",
   "execution_count": null,
   "metadata": {},
   "outputs": [],
   "source": []
  }
 ],
 "metadata": {
  "kernelspec": {
   "display_name": "Python 3 (ipykernel)",
   "language": "python",
   "name": "python3"
  },
  "language_info": {
   "codemirror_mode": {
    "name": "ipython",
    "version": 3
   },
   "file_extension": ".py",
   "mimetype": "text/x-python",
   "name": "python",
   "nbconvert_exporter": "python",
   "pygments_lexer": "ipython3",
   "version": "3.11.4"
  }
 },
 "nbformat": 4,
 "nbformat_minor": 4
}
